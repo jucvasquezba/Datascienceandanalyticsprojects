{
 "cells": [
  {
   "cell_type": "code",
   "execution_count": 30,
   "id": "49125176",
   "metadata": {},
   "outputs": [
    {
     "name": "stdout",
     "output_type": "stream",
     "text": [
      "The autotime extension is already loaded. To reload it, use:\n",
      "  %reload_ext autotime\n",
      "time: 1.59 ms (started: 2021-09-17 15:21:38 +00:00)\n"
     ]
    }
   ],
   "source": [
    "#Librerias\n",
    "import re\n",
    "import json\n",
    "import pandas as pd\n",
    "import pydata_google_auth\n",
    "from fim import arules, fpgrowth\n",
    "from mlxtend.frequent_patterns import association_rules\n",
    "from google.cloud import bigquery\n",
    "from google.oauth2 import service_account\n",
    "from azure.storage.blob import BlobClient\n",
    "%load_ext autotime"
   ]
  },
  {
   "cell_type": "code",
   "execution_count": 31,
   "id": "4de2e7f3",
   "metadata": {},
   "outputs": [
    {
     "name": "stdout",
     "output_type": "stream",
     "text": [
      "time: 16.7 ms (started: 2021-09-17 15:21:39 +00:00)\n"
     ]
    }
   ],
   "source": [
    "client = bigquery.Client()\n",
    "project_id = 'customer'\n",
    "dataset_id = '`customer.recommendations`'\n",
    "query = \"\"\"\n",
    "  SELECT *\n",
    "  FROM  `customer.recommendations`\n",
    "  \"\"\""
   ]
  },
  {
   "cell_type": "code",
   "execution_count": 32,
   "id": "07d67566",
   "metadata": {},
   "outputs": [
    {
     "name": "stdout",
     "output_type": "stream",
     "text": [
      "time: 17.5 s (started: 2021-09-17 15:21:43 +00:00)\n"
     ]
    }
   ],
   "source": [
    "df = client.query(query).to_dataframe()"
   ]
  },
  {
   "cell_type": "code",
   "execution_count": 34,
   "id": "dc975132",
   "metadata": {},
   "outputs": [
    {
     "name": "stdout",
     "output_type": "stream",
     "text": [
      "time: 41.5 s (started: 2021-09-17 15:23:35 +00:00)\n"
     ]
    }
   ],
   "source": [
    "#Creación de dataframes por segmento y región:\n",
    "df1 = df[(df[\"SEGMENTO\"] == \"SEGMENTO_1\") & (df[\"REGION\"] == \"Cali\" )]\n",
    "df2 = df[(df[\"SEGMENTO\"] == \"SEGMENTO_2\") & (df[\"REGION\"] == \"Cali\" )]\n",
    "df3 = df[(df[\"SEGMENTO\"] == \"SEGMENTO_3\") & (df[\"REGION\"] == \"Cali\" )]\n",
    "df4 = df[(df[\"SEGMENTO\"] == \"SEGMENTO_4\") & (df[\"REGION\"] == \"Cali\" )]\n",
    "df5 = df[(df[\"SEGMENTO\"] == \"SEGMENTO_1\") & (df[\"REGION\"] == \"Santanderes\" )]\n",
    "df6 = df[(df[\"SEGMENTO\"] == \"SEGMENTO_2\") & (df[\"REGION\"] == \"Santanderes\" )]\n",
    "df7 = df[(df[\"SEGMENTO\"] == \"SEGMENTO_3\") & (df[\"REGION\"] == \"Santanderes\" )]\n",
    "df8 = df[(df[\"SEGMENTO\"] == \"SEGMENTO_4\") & (df[\"REGION\"] == \"Santanderes\" )]\n",
    "df9 = df[(df[\"SEGMENTO\"] == \"SEGMENTO_1\") & (df[\"REGION\"] == \"Eje Cafetero\" )]\n",
    "df10 = df[(df[\"SEGMENTO\"] == \"SEGMENTO_2\") & (df[\"REGION\"] == \"Eje Cafetero\" )]\n",
    "df11 = df[(df[\"SEGMENTO\"] == \"SEGMENTO_3\") & (df[\"REGION\"] == \"Eje Cafetero\" )]\n",
    "df12 = df[(df[\"SEGMENTO\"] == \"SEGMENTO_4\") & (df[\"REGION\"] == \"Eje Cafetero\" )]\n",
    "df13 = df[(df[\"SEGMENTO\"] == \"SEGMENTO_1\") & (df[\"REGION\"] == \"Villavicencio\" )]\n",
    "df14 = df[(df[\"SEGMENTO\"] == \"SEGMENTO_2\") & (df[\"REGION\"] == \"Villavicencio\" )]\n",
    "df15 = df[(df[\"SEGMENTO\"] == \"SEGMENTO_3\") & (df[\"REGION\"] == \"Villavicencio\" )]\n",
    "df16 = df[(df[\"SEGMENTO\"] == \"SEGMENTO_4\") & (df[\"REGION\"] == \"Villavicencio\" )]\n",
    "df17 = df[(df[\"SEGMENTO\"] == \"SEGMENTO_1\") & (df[\"REGION\"] == \"Ibagué\" )]\n",
    "df18 = df[(df[\"SEGMENTO\"] == \"SEGMENTO_2\") & (df[\"REGION\"] == \"Ibagué\" )]\n",
    "df19 = df[(df[\"SEGMENTO\"] == \"SEGMENTO_3\") & (df[\"REGION\"] == \"Ibagué\" )]\n",
    "df20 = df[(df[\"SEGMENTO\"] == \"SEGMENTO_4\") & (df[\"REGION\"] == \"Ibagué\" )]\n",
    "df21 = df[(df[\"SEGMENTO\"] == \"SEGMENTO_1\") & (df[\"REGION\"] == \"Medellin\" )]\n",
    "df22 = df[(df[\"SEGMENTO\"] == \"SEGMENTO_2\") & (df[\"REGION\"] == \"Medellin\" )]\n",
    "df23 = df[(df[\"SEGMENTO\"] == \"SEGMENTO_3\") & (df[\"REGION\"] == \"Medellin\" )]\n",
    "df24 = df[(df[\"SEGMENTO\"] == \"SEGMENTO_4\") & (df[\"REGION\"] == \"Medellin\" )]\n",
    "df25 = df[(df[\"SEGMENTO\"] == \"SEGMENTO_1\") & (df[\"REGION\"] == \"Bogota\" )]\n",
    "df26 = df[(df[\"SEGMENTO\"] == \"SEGMENTO_2\") & (df[\"REGION\"] == \"Bogota\" )]\n",
    "df27 = df[(df[\"SEGMENTO\"] == \"SEGMENTO_3\") & (df[\"REGION\"] == \"Bogota\" )]\n",
    "df28 = df[(df[\"SEGMENTO\"] == \"SEGMENTO_4\") & (df[\"REGION\"] == \"Bogota\" )]\n",
    "df29 = df[(df[\"SEGMENTO\"] == \"SEGMENTO_1\") & (df[\"REGION\"] == \"Costa\" )]\n",
    "df30 = df[(df[\"SEGMENTO\"] == \"SEGMENTO_2\") & (df[\"REGION\"] == \"Costa\" )]\n",
    "df31 = df[(df[\"SEGMENTO\"] == \"SEGMENTO_3\") & (df[\"REGION\"] == \"Costa\" )]\n",
    "df32 = df[(df[\"SEGMENTO\"] == \"SEGMENTO_4\") & (df[\"REGION\"] == \"Costa\" )]\n",
    "df33 = df[(df[\"SEGMENTO\"] == \"SEGMENTO_1\") & (df[\"REGION\"] == \"Poblaciones\" )]\n",
    "df34 = df[(df[\"SEGMENTO\"] == \"SEGMENTO_2\") & (df[\"REGION\"] == \"Poblaciones\" )]\n",
    "df35 = df[(df[\"SEGMENTO\"] == \"SEGMENTO_3\") & (df[\"REGION\"] == \"Poblaciones\" )]\n",
    "df36 = df[(df[\"SEGMENTO\"] == \"SEGMENTO_4\") & (df[\"REGION\"] == \"Poblaciones\" )]\n",
    "df37 = df[(df[\"SEGMENTO\"] == \"SEGMENTO_1\") & (df[\"REGION\"] == \"Barranquilla\" )]\n",
    "df38 = df[(df[\"SEGMENTO\"] == \"SEGMENTO_2\") & (df[\"REGION\"] == \"Barranquilla\" )]\n",
    "df39 = df[(df[\"SEGMENTO\"] == \"SEGMENTO_3\") & (df[\"REGION\"] == \"Barranquilla\" )]\n",
    "df40 = df[(df[\"SEGMENTO\"] == \"SEGMENTO_4\") & (df[\"REGION\"] == \"Barranquilla\" )]\n",
    "df41 = df[(df[\"SEGMENTO\"] == \"SEGMENTO_1\") & (df[\"REGION\"] == \"Cartagena\" )]\n",
    "df42 = df[(df[\"SEGMENTO\"] == \"SEGMENTO_2\") & (df[\"REGION\"] == \"Cartagena\" )]\n",
    "df43 = df[(df[\"SEGMENTO\"] == \"SEGMENTO_3\") & (df[\"REGION\"] == \"Cartagena\" )]\n",
    "df44 = df[(df[\"SEGMENTO\"] == \"SEGMENTO_4\") & (df[\"REGION\"] == \"Cartagena\" )]"
   ]
  },
  {
   "cell_type": "code",
   "execution_count": 35,
   "id": "2b0dbf49",
   "metadata": {},
   "outputs": [
    {
     "name": "stdout",
     "output_type": "stream",
     "text": [
      "time: 776 µs (started: 2021-09-17 15:24:16 +00:00)\n"
     ]
    }
   ],
   "source": [
    "# make dict for nicer looking column names\n",
    "report_colnames = {\n",
    "    'a': 'support_itemset_absolute',\n",
    "    's': 'support_itemset_relative',\n",
    "    'S': 'support_itemset_relative_pct',\n",
    "    'b': 'support_bodyset_absolute',\n",
    "    'x': 'support_bodyset_relative',\n",
    "    'X': 'support_bodyset_relative_pct',\n",
    "    'h': 'support_headitem_absolute',\n",
    "    'y': 'support_headitem_relative',\n",
    "    'Y': 'support_headitem_relative_pct',\n",
    "    'c': 'confidence',\n",
    "    'C': 'confidence_pct',\n",
    "    'l': 'lift',\n",
    "    'L': 'lift_pct',\n",
    "    'e': 'evaluation',\n",
    "    'E': 'evaluation_pct',\n",
    "    'Q': 'xx',\n",
    "    'S': 'support_emptyset',\n",
    "    }"
   ]
  },
  {
   "cell_type": "code",
   "execution_count": 36,
   "id": "fc783812",
   "metadata": {},
   "outputs": [
    {
     "name": "stdout",
     "output_type": "stream",
     "text": [
      "time: 21.2 ms (started: 2021-09-17 15:24:16 +00:00)\n"
     ]
    }
   ],
   "source": [
    "#Funciones\n",
    "#Dataframe to a list of lists:\n",
    "\n",
    "def turn_to_list (df):\n",
    "  lst = []\n",
    "  dlist = df.groupby(['PEDIDO'], as_index=False).agg({'CL': lambda x: list(x)})\n",
    "  for i in dlist['CL']:\n",
    "    lst.append(i)\n",
    "  return lst\n",
    "\n",
    "#Creación de recomendaciones para listas de CL y pedidos:\n",
    "\n",
    "def run_apriori_support_max (dic):\n",
    "  supp = 1 # minimum support of an assoc. rule   (default: 10)\n",
    "  conf = 1 # minimum confidence of an assoc. rule (default: 10%)\n",
    "  report = 'asC'\n",
    "  algo = 'fp' # 'fp' or 'ap'\n",
    "  # run apriori\n",
    "  if algo == 'ap':\n",
    "    result = arules(dic, supp=supp, conf=conf, report=report)\n",
    "  elif algo == 'fp':\n",
    "    result = fpgrowth(dic, supp=supp, report=report)\n",
    "\n",
    "  # make df of results\n",
    "  if algo == 'ap':\n",
    "    colnames = ['consequent', 'antecedent'] + [report_colnames.get(k, k) for k in list(report)]\n",
    "  elif algo == 'fp':\n",
    "    colnames = ['itemset'] + [report_colnames.get(k, k) for k in list(report)]\n",
    "\n",
    "  rules = pd.DataFrame(result, columns=colnames)\n",
    "  rules = rules.sort_values('support_itemset_absolute', ascending=False)\n",
    "  rules=  rules.rename(columns={\"itemset\": \"itemsets\", \"support_itemset_relative\":\"support\"})\n",
    "  rules = association_rules(rules, metric=\"conviction\")\n",
    "  rules = rules.sort_values(by=['support', 'confidence'], ascending = [False, False])\n",
    "  rules = rules.head(401)\n",
    "  return rules\n",
    "\n",
    "def run_apriori_support_min (dic):\n",
    "  supp = 0.1 # minimum support of an assoc. rule   (default: 1)\n",
    "  conf = 0.1 # minimum confidence of an assoc. rule (default: 1%)\n",
    "  report = 'asC'\n",
    "  algo = 'fp' # 'fp' or 'ap'\n",
    "  # run apriori\n",
    "  if algo == 'ap':\n",
    "    result = arules(dic, supp=supp, conf=conf, report=report)\n",
    "  elif algo == 'fp':\n",
    "    result = fpgrowth(dic, supp=supp, report=report)\n",
    "\n",
    "  # make df of results\n",
    "  if algo == 'ap':\n",
    "    colnames = ['consequent', 'antecedent'] + [report_colnames.get(k, k) for k in list(report)]\n",
    "  elif algo == 'fp':\n",
    "    colnames = ['itemset'] + [report_colnames.get(k, k) for k in list(report)]\n",
    "\n",
    "  rules = pd.DataFrame(result, columns=colnames)\n",
    "  rules = rules.sort_values('support_itemset_absolute', ascending=False)\n",
    "  rules=  rules.rename(columns={\"itemset\": \"itemsets\", \"support_itemset_relative\":\"support\"})\n",
    "  rules = association_rules(rules, metric=\"conviction\")\n",
    "  rules = rules.sort_values(by=['support', 'confidence'], ascending = [False, False])\n",
    "  rules = rules.head(401)\n",
    "  return rules\n"
   ]
  },
  {
   "cell_type": "code",
   "execution_count": 37,
   "id": "079b3a47",
   "metadata": {},
   "outputs": [
    {
     "name": "stdout",
     "output_type": "stream",
     "text": [
      "time: 7.2 s (started: 2021-09-17 15:24:16 +00:00)\n"
     ]
    }
   ],
   "source": [
    "#Creación de lista de listas:\n",
    "list1 = turn_to_list(df1)\n",
    "list2 = turn_to_list(df2)\n",
    "list3 = turn_to_list(df3)\n",
    "list4 = turn_to_list(df4)\n",
    "list5 = turn_to_list(df5)\n",
    "list6 = turn_to_list(df6)\n",
    "list7 = turn_to_list(df7)\n",
    "list8 = turn_to_list(df8)\n",
    "list9 = turn_to_list(df9)\n",
    "list10 = turn_to_list(df10)\n",
    "list11 = turn_to_list(df11)\n",
    "list12 = turn_to_list(df12)\n",
    "list13 = turn_to_list(df13)\n",
    "list14 = turn_to_list(df14)\n",
    "list15 = turn_to_list(df15)\n",
    "list16 = turn_to_list(df16)\n",
    "list17 = turn_to_list(df17)\n",
    "list18 = turn_to_list(df18)\n",
    "list19 = turn_to_list(df19)\n",
    "list20 = turn_to_list(df20)\n",
    "list21 = turn_to_list(df21)\n",
    "list22 = turn_to_list(df22)\n",
    "list23 = turn_to_list(df23)\n",
    "list24 = turn_to_list(df24)\n",
    "list25 = turn_to_list(df25)\n",
    "list26 = turn_to_list(df26)\n",
    "list27 = turn_to_list(df27)\n",
    "list28 = turn_to_list(df28)\n",
    "list29 = turn_to_list(df29)\n",
    "list30 = turn_to_list(df30)\n",
    "list31 = turn_to_list(df31)\n",
    "list32 = turn_to_list(df32)\n",
    "list33 = turn_to_list(df33)\n",
    "list34 = turn_to_list(df34)\n",
    "list35 = turn_to_list(df35)\n",
    "list36 = turn_to_list(df36)\n",
    "list37 = turn_to_list(df37)\n",
    "list38 = turn_to_list(df38)\n",
    "list39 = turn_to_list(df39)\n",
    "list40 = turn_to_list(df40)\n",
    "list41 = turn_to_list(df41)\n",
    "list42 = turn_to_list(df42)\n",
    "list43 = turn_to_list(df43)\n",
    "list44 = turn_to_list(df44)"
   ]
  },
  {
   "cell_type": "code",
   "execution_count": 38,
   "id": "97237fcd",
   "metadata": {},
   "outputs": [
    {
     "name": "stdout",
     "output_type": "stream",
     "text": [
      "time: 27.3 s (started: 2021-09-17 15:24:23 +00:00)\n"
     ]
    }
   ],
   "source": [
    "#Generación de recomendaciones:\n",
    "rules1 = run_apriori_support_min(list1) \n",
    "rules1['GRUPO_SEGMENTO'] = 'SEGMENTO_1' \n",
    "rules2 = run_apriori_support_min(list2)\n",
    "rules2['GRUPO_SEGMENTO'] = 'SEGMENTO_2' \n",
    "rules3 = run_apriori_support_min(list3)\n",
    "rules3['GRUPO_SEGMENTO'] = 'SEGMENTO_3' \n",
    "rules4 = run_apriori_support_max(list4)\n",
    "rules4['GRUPO_SEGMENTO'] = 'SEGMENTO_4' \n",
    "rules5 = run_apriori_support_min(list5)\n",
    "rules5['GRUPO_SEGMENTO'] = 'SEGMENTO_5' \n",
    "rules6 = run_apriori_support_min(list6)\n",
    "rules6['GRUPO_SEGMENTO'] = 'SEGMENTO_6' \n",
    "rules7 = run_apriori_support_min(list7)\n",
    "rules7['GRUPO_SEGMENTO'] = 'SEGMENTO_7' \n",
    "rules8 = run_apriori_support_max(list8)\n",
    "rules8['GRUPO_SEGMENTO'] = 'SEGMENTO_8' \n",
    "rules9 = run_apriori_support_min(list9)\n",
    "rules9['GRUPO_SEGMENTO'] = 'SEGMENTO_9' \n",
    "rules10 = run_apriori_support_min(list10)\n",
    "rules10['GRUPO_SEGMENTO'] = 'SEGMENTO_10' \n",
    "rules11 = run_apriori_support_min(list11)\n",
    "rules11['GRUPO_SEGMENTO'] = 'SEGMENTO_11' \n",
    "rules12 = run_apriori_support_max(list12)\n",
    "rules12['GRUPO_SEGMENTO'] = 'SEGMENTO_12' \n",
    "rules13 = run_apriori_support_min(list13)\n",
    "rules13['GRUPO_SEGMENTO'] = 'SEGMENTO_13' \n",
    "rules14 = run_apriori_support_min(list14)\n",
    "rules14['GRUPO_SEGMENTO'] = 'SEGMENTO_14' \n",
    "rules15 = run_apriori_support_min(list15)\n",
    "rules15['GRUPO_SEGMENTO'] = 'SEGMENTO_15' \n",
    "rules16 = run_apriori_support_max(list16)\n",
    "rules16['GRUPO_SEGMENTO'] = 'SEGMENTO_16' \n",
    "rules17 = run_apriori_support_min(list17)\n",
    "rules17['GRUPO_SEGMENTO'] = 'SEGMENTO_17' \n",
    "rules18 = run_apriori_support_min(list18)\n",
    "rules18['GRUPO_SEGMENTO'] = 'SEGMENTO_18' \n",
    "rules19 = run_apriori_support_min(list19)\n",
    "rules19['GRUPO_SEGMENTO'] = 'SEGMENTO_19' \n",
    "rules20 = run_apriori_support_max(list20)\n",
    "rules20['GRUPO_SEGMENTO'] = 'SEGMENTO_20' \n",
    "rules21 = run_apriori_support_min(list21)\n",
    "rules21['GRUPO_SEGMENTO'] = 'SEGMENTO_21' \n",
    "rules22 = run_apriori_support_min(list22)\n",
    "rules22['GRUPO_SEGMENTO'] = 'SEGMENTO_22' \n",
    "rules23 = run_apriori_support_min(list23)\n",
    "rules23['GRUPO_SEGMENTO'] = 'SEGMENTO_23' \n",
    "rules24 = run_apriori_support_max(list24)\n",
    "rules24['GRUPO_SEGMENTO'] = 'SEGMENTO_24' \n",
    "rules25 = run_apriori_support_min(list25)\n",
    "rules25['GRUPO_SEGMENTO'] = 'SEGMENTO_25' \n",
    "rules26 = run_apriori_support_min(list26)\n",
    "rules26['GRUPO_SEGMENTO'] = 'SEGMENTO_26' \n",
    "rules27 = run_apriori_support_min(list27)\n",
    "rules27['GRUPO_SEGMENTO'] = 'SEGMENTO_27' \n",
    "rules28 = run_apriori_support_max(list28)\n",
    "rules28['GRUPO_SEGMENTO'] = 'SEGMENTO_28' \n",
    "rules29 = run_apriori_support_min(list29)\n",
    "rules29['GRUPO_SEGMENTO'] = 'SEGMENTO_29' \n",
    "rules30 = run_apriori_support_min(list30)\n",
    "rules30['GRUPO_SEGMENTO'] = 'SEGMENTO_30' \n",
    "rules31 = run_apriori_support_min(list31)\n",
    "rules31['GRUPO_SEGMENTO'] = 'SEGMENTO_31' \n",
    "rules32 = run_apriori_support_max(list32)\n",
    "rules32['GRUPO_SEGMENTO'] = 'SEGMENTO_32' \n",
    "rules33 = run_apriori_support_min(list33)\n",
    "rules33['GRUPO_SEGMENTO'] = 'SEGMENTO_33' \n",
    "rules34 = run_apriori_support_min(list34)\n",
    "rules34['GRUPO_SEGMENTO'] = 'SEGMENTO_34'\n",
    "rules35 = run_apriori_support_min(list35)\n",
    "rules35['GRUPO_SEGMENTO'] = 'SEGMENTO_35' \n",
    "rules36 = run_apriori_support_max(list36)\n",
    "rules36['GRUPO_SEGMENTO'] = 'SEGMENTO_36' \n",
    "rules37 = run_apriori_support_min(list37)\n",
    "rules37['GRUPO_SEGMENTO'] = 'SEGMENTO_37' \n",
    "rules38 = run_apriori_support_min(list38)\n",
    "rules38['GRUPO_SEGMENTO'] = 'SEGMENTO_38' \n",
    "rules39 = run_apriori_support_min(list39)\n",
    "rules39['GRUPO_SEGMENTO'] = 'SEGMENTO_39' \n",
    "rules40 = run_apriori_support_max(list40)\n",
    "rules40['GRUPO_SEGMENTO'] = 'SEGMENTO_40' \n",
    "rules41 = run_apriori_support_min(list41)\n",
    "rules41['GRUPO_SEGMENTO'] = 'SEGMENTO_41' \n",
    "rules42 = run_apriori_support_min(list42)\n",
    "rules42['GRUPO_SEGMENTO'] = 'SEGMENTO_42' \n",
    "rules43 = run_apriori_support_min(list43)\n",
    "rules43['GRUPO_SEGMENTO'] = 'SEGMENTO_43' \n",
    "rules44 = run_apriori_support_max(list44)\n",
    "rules44['GRUPO_SEGMENTO'] = 'SEGMENTO_44' "
   ]
  },
  {
   "cell_type": "code",
   "execution_count": 39,
   "id": "811df2be",
   "metadata": {},
   "outputs": [
    {
     "name": "stdout",
     "output_type": "stream",
     "text": [
      "time: 45.3 ms (started: 2021-09-17 15:24:51 +00:00)\n"
     ]
    }
   ],
   "source": [
    "df_union = pd.concat([rules1, rules2, rules3, rules4, rules5, \n",
    "                             rules6, rules7, rules8, rules9, rules10, \n",
    "                             rules11, rules12, rules13, rules14, rules15, \n",
    "                             rules16, rules17, rules18, rules19, rules20, \n",
    "                             rules21, rules22, rules23, rules24, rules25,\n",
    "                             rules26, rules27, rules28, rules29, rules30, \n",
    "                             rules31, rules32, rules33, rules34, rules35, \n",
    "                             rules36, rules37, rules38, rules39, rules40, \n",
    "                             rules41, rules42, rules43, rules44])"
   ]
  },
  {
   "cell_type": "code",
   "execution_count": 40,
   "id": "6da52b3a",
   "metadata": {},
   "outputs": [
    {
     "name": "stdout",
     "output_type": "stream",
     "text": [
      "time: 25.2 ms (started: 2021-09-17 15:24:51 +00:00)\n"
     ]
    }
   ],
   "source": [
    "column = df[\"yearQuater\"]\n",
    "max_value = str(column.max())"
   ]
  },
  {
   "cell_type": "code",
   "execution_count": 41,
   "id": "5e230a18",
   "metadata": {},
   "outputs": [
    {
     "name": "stdout",
     "output_type": "stream",
     "text": [
      "time: 10.5 ms (started: 2021-09-17 15:25:15 +00:00)\n"
     ]
    }
   ],
   "source": [
    "df_final = df_union.drop(['antecedent support', 'consequent support','conviction','leverage'],axis='columns')\n",
    "df_final['MODELO_ML'] = 'MBA'\n",
    "df_final['CAMPANA'] = max_value"
   ]
  },
  {
   "cell_type": "code",
   "execution_count": 42,
   "id": "aa6132c1",
   "metadata": {},
   "outputs": [
    {
     "name": "stdout",
     "output_type": "stream",
     "text": [
      "time: 187 ms (started: 2021-09-17 15:25:16 +00:00)\n"
     ]
    }
   ],
   "source": [
    "combined_values = df_final['GRUPO_SEGMENTO'].map(str) + ';' + df_final['MODELO_ML'].map(str) + ';' + df_final['CAMPANA'].map(str) + ';' + df_final['antecedents'].map(str) + ';' + df_final['consequents'].map(str) + ';' + df_final['lift'].map(str) + ';' + df_final['support'].map(str) + ';' + df_final['confidence'].map(str) \n",
    "data = combined_values.to_frame()"
   ]
  },
  {
   "cell_type": "code",
   "execution_count": 43,
   "id": "e9b0068f",
   "metadata": {},
   "outputs": [
    {
     "name": "stdout",
     "output_type": "stream",
     "text": [
      "time: 205 ms (started: 2021-09-17 15:25:19 +00:00)\n"
     ]
    },
    {
     "name": "stderr",
     "output_type": "stream",
     "text": [
      "/opt/conda/lib/python3.7/site-packages/ipykernel_launcher.py:2: FutureWarning: The default value of regex will change from True to False in a future version. In addition, single character regular expressions will *not* be treated as literal strings when regex=True.\n",
      "  \n",
      "/opt/conda/lib/python3.7/site-packages/ipykernel_launcher.py:3: FutureWarning: The default value of regex will change from True to False in a future version. In addition, single character regular expressions will *not* be treated as literal strings when regex=True.\n",
      "  This is separate from the ipykernel package so we can avoid doing imports until\n",
      "/opt/conda/lib/python3.7/site-packages/ipykernel_launcher.py:4: FutureWarning: The default value of regex will change from True to False in a future version. In addition, single character regular expressions will *not* be treated as literal strings when regex=True.\n",
      "  after removing the cwd from sys.path.\n",
      "/opt/conda/lib/python3.7/site-packages/ipykernel_launcher.py:5: FutureWarning: The default value of regex will change from True to False in a future version. In addition, single character regular expressions will *not* be treated as literal strings when regex=True.\n",
      "  \"\"\"\n"
     ]
    }
   ],
   "source": [
    "data[0] = data[0].str.replace(\"frozenset\", \"\")\n",
    "data[0] = data[0].str.replace(\"{\", \"\")\n",
    "data[0] = data[0].str.replace(\"}\", \"\")\n",
    "data[0] = data[0].str.replace(\"(\", \"\")\n",
    "data[0] = data[0].str.replace(\")\", \"\")\n",
    "data[0] = data[0].str.replace(\"''\", \"\")\n",
    "data[0] = data[0].str.replace('\"\"', \"\")\n",
    "data[0] = data[0].str.replace(\"'\", \"\")\n",
    "data[0] = data[0].str.replace(\" \", \"\")\n",
    "data[0] = data[0].str.strip('\"')\n",
    "data[0] = data[0].str.replace('\"', \"\")\n",
    "data[0] = data[0].replace('\"','')"
   ]
  },
  {
   "cell_type": "code",
   "execution_count": 44,
   "id": "876d603c",
   "metadata": {},
   "outputs": [
    {
     "name": "stdout",
     "output_type": "stream",
     "text": [
      "time: 1.02 ms (started: 2021-09-17 15:25:22 +00:00)\n"
     ]
    }
   ],
   "source": [
    "from datetime import datetime\n",
    "now = datetime.now()\n",
    "d1 = now.strftime(\"%Y%m%d%H%M%S\")\n",
    "csv_recomendations = 'ProduREF-'+d1\n",
    "csv_users = 'ProduRES-'+d1"
   ]
  },
  {
   "cell_type": "code",
   "execution_count": 45,
   "id": "da8ac818",
   "metadata": {},
   "outputs": [
    {
     "name": "stdout",
     "output_type": "stream",
     "text": [
      "time: 133 ms (started: 2021-09-17 15:25:31 +00:00)\n"
     ]
    }
   ],
   "source": [
    "data = data.rename(columns={0 : \"GRUPO_SEGMENTO;MODELO_ML;CAMPANA;ANTECEDENTS;CONSEQUENTS;LIFT;SUPPORT;CONFIDENCE\"})\n",
    "data.to_csv('data.csv',index = False, encoding='UTF-8')"
   ]
  },
  {
   "cell_type": "code",
   "execution_count": 46,
   "id": "d85994be",
   "metadata": {},
   "outputs": [
    {
     "name": "stdout",
     "output_type": "stream",
     "text": [
      "time: 550 ms (started: 2021-09-17 15:25:35 +00:00)\n"
     ]
    }
   ],
   "source": [
    "with open('data.csv','r') as csv_file:\n",
    "    for line in csv_file:\n",
    "        # removing starting and ending quotes of a line\n",
    "        pattern1 = re.compile(r'^\"|\"$',re.MULTILINE)\n",
    "        line = re.sub(r'^\"|\"$',\"\",line)\n",
    "        # substituting escaped quote with a single quote\n",
    "        #pattern2 = re.compile(r'\"\"')\n",
    "        #line = re.sub(r'\"\"','\"',line)\n",
    "\n",
    "        corrected_csv = open(\"data_csv.csv\",'a')\n",
    "        corrected_csv.write(line)\n",
    "        corrected_csv.close()"
   ]
  },
  {
   "cell_type": "code",
   "execution_count": 47,
   "id": "95467789",
   "metadata": {},
   "outputs": [
    {
     "name": "stdout",
     "output_type": "stream",
     "text": [
      "time: 2.15 s (started: 2021-09-17 15:27:43 +00:00)\n"
     ]
    }
   ],
   "source": [
    "blob = BlobClient.from_connection_string(conn_str=\"DefaultEndpointsProtocol=https;AccountName=xxxxxx;AccountKey=xxxxxxxx==;EndpointSuffix=core.windows.net\", container_name=\"path\", blob_name=csv_recomendations+\".csv\")\n",
    "\n",
    "with open(\"data_csv.csv\", \"rb\") as data:\n",
    "    blob.upload_blob(data)"
   ]
  },
  {
   "cell_type": "code",
   "execution_count": 48,
   "id": "d11fed1e",
   "metadata": {},
   "outputs": [
    {
     "name": "stdout",
     "output_type": "stream",
     "text": [
      "time: 610 µs (started: 2021-09-17 15:27:48 +00:00)\n"
     ]
    }
   ],
   "source": [
    "#Insert Query:\n",
    "query2 = \"\"\"\n",
    "  SELECT \n",
    "    customer_ID,\n",
    "    SEGMENT\n",
    "  FROM `customer.recommendations`\n",
    "  \"\"\"\n",
    "project_id = 'customer'"
   ]
  },
  {
   "cell_type": "code",
   "execution_count": 49,
   "id": "c83aebb2",
   "metadata": {},
   "outputs": [
    {
     "name": "stdout",
     "output_type": "stream",
     "text": [
      "time: 2.71 s (started: 2021-09-17 15:27:52 +00:00)\n"
     ]
    }
   ],
   "source": [
    "#Converting query to data frame\n",
    "df_user = df = client.query(query2).to_dataframe()\n",
    "combined_values_2 = df_user['customer_ID'].map(str) + ';' + df_user['SEGMENT'].map(str) \n",
    "data2 = combined_values_2.to_frame()\n",
    "data2 = data2.rename(columns={0 : \"customer_ID;SEGMENT\"})\n",
    "data2.to_csv('data2.csv',index = False, encoding='UTF-8')"
   ]
  },
  {
   "cell_type": "code",
   "execution_count": 50,
   "id": "ac2b74f1",
   "metadata": {},
   "outputs": [
    {
     "name": "stdout",
     "output_type": "stream",
     "text": [
      "time: 2.51 s (started: 2021-09-17 15:28:38 +00:00)\n"
     ]
    }
   ],
   "source": [
    "from azure.storage.blob import BlobClient\n",
    "\n",
    "blob = BlobClient.from_connection_string(conn_str=\"DefaultEndpointsProtocol=https;AccountName=xxxxxx;AccountKey=xxxxxxxx;EndpointSuffix=core.windows.net\", container_name=\"path\", blob_name=csv_users+\".csv\")\n",
    "\n",
    "with open(\"data2.csv\", \"rb\") as data:\n",
    "    blob.upload_blob(data)"
   ]
  },
  {
   "cell_type": "code",
   "execution_count": null,
   "id": "72cfe854",
   "metadata": {},
   "outputs": [],
   "source": []
  }
 ],
 "metadata": {
  "environment": {
   "name": "common-cpu.m76",
   "type": "gcloud",
   "uri": "gcr.io/deeplearning-platform-release/base-cpu:m76"
  },
  "kernelspec": {
   "display_name": "Python 3",
   "language": "python",
   "name": "python3"
  },
  "language_info": {
   "codemirror_mode": {
    "name": "ipython",
    "version": 3
   },
   "file_extension": ".py",
   "mimetype": "text/x-python",
   "name": "python",
   "nbconvert_exporter": "python",
   "pygments_lexer": "ipython3",
   "version": "3.7.10"
  }
 },
 "nbformat": 4,
 "nbformat_minor": 5
}
