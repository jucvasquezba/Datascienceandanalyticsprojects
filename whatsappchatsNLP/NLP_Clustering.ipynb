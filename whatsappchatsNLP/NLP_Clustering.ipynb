{
 "cells": [
  {
   "cell_type": "code",
   "execution_count": 2,
   "metadata": {},
   "outputs": [],
   "source": [
    "import pandas as pd\n",
    "import numpy as np"
   ]
  },
  {
   "cell_type": "code",
   "execution_count": 3,
   "metadata": {},
   "outputs": [
    {
     "data": {
      "text/html": [
       "<div>\n",
       "<style scoped>\n",
       "    .dataframe tbody tr th:only-of-type {\n",
       "        vertical-align: middle;\n",
       "    }\n",
       "\n",
       "    .dataframe tbody tr th {\n",
       "        vertical-align: top;\n",
       "    }\n",
       "\n",
       "    .dataframe thead th {\n",
       "        text-align: right;\n",
       "    }\n",
       "</style>\n",
       "<table border=\"1\" class=\"dataframe\">\n",
       "  <thead>\n",
       "    <tr style=\"text-align: right;\">\n",
       "      <th></th>\n",
       "      <th>created_at</th>\n",
       "      <th>message</th>\n",
       "      <th>tipo_de_mensaje</th>\n",
       "    </tr>\n",
       "  </thead>\n",
       "  <tbody>\n",
       "    <tr>\n",
       "      <td>0</td>\n",
       "      <td>2020-11-01</td>\n",
       "      <td>Podría pagar hoy $500 y lo que resta la siguie...</td>\n",
       "      <td>Mensajes del usuario</td>\n",
       "    </tr>\n",
       "    <tr>\n",
       "      <td>1</td>\n",
       "      <td>2020-11-01</td>\n",
       "      <td>Buenas tardes quiero me gustaría tener info gr...</td>\n",
       "      <td>Mensajes del usuario</td>\n",
       "    </tr>\n",
       "    <tr>\n",
       "      <td>2</td>\n",
       "      <td>2020-11-01</td>\n",
       "      <td>Que otras Licenciaturas tienen?</td>\n",
       "      <td>Mensajes del usuario</td>\n",
       "    </tr>\n",
       "    <tr>\n",
       "      <td>3</td>\n",
       "      <td>2020-11-01</td>\n",
       "      <td>Entonces está semana no habrá evaluación ???</td>\n",
       "      <td>Mensajes del usuario</td>\n",
       "    </tr>\n",
       "    <tr>\n",
       "      <td>4</td>\n",
       "      <td>2020-11-01</td>\n",
       "      <td>Puedo terminar mi secundaria??</td>\n",
       "      <td>Mensajes del usuario</td>\n",
       "    </tr>\n",
       "  </tbody>\n",
       "</table>\n",
       "</div>"
      ],
      "text/plain": [
       "   created_at                                            message  \\\n",
       "0  2020-11-01  Podría pagar hoy $500 y lo que resta la siguie...   \n",
       "1  2020-11-01  Buenas tardes quiero me gustaría tener info gr...   \n",
       "2  2020-11-01                    Que otras Licenciaturas tienen?   \n",
       "3  2020-11-01       Entonces está semana no habrá evaluación ???   \n",
       "4  2020-11-01                     Puedo terminar mi secundaria??   \n",
       "\n",
       "        tipo_de_mensaje  \n",
       "0  Mensajes del usuario  \n",
       "1  Mensajes del usuario  \n",
       "2  Mensajes del usuario  \n",
       "3  Mensajes del usuario  \n",
       "4  Mensajes del usuario  "
      ]
     },
     "execution_count": 3,
     "metadata": {},
     "output_type": "execute_result"
    }
   ],
   "source": [
    "#Loading dataset:\n",
    "df = pd.read_csv(\"Data NLP_chtas_clustering.csv\")\n",
    "df.head()"
   ]
  },
  {
   "cell_type": "code",
   "execution_count": 18,
   "metadata": {},
   "outputs": [],
   "source": [
    "#Before we can apply LDA, we need to create vocabulary of \n",
    "from sklearn.feature_extraction.text import CountVectorizer\n",
    "from nltk.corpus import stopwords\n",
    "spanish_stopwords = stopwords.words('spanish')"
   ]
  },
  {
   "cell_type": "code",
   "execution_count": 21,
   "metadata": {},
   "outputs": [],
   "source": [
    "count_vect = CountVectorizer(max_df=5.0, min_df=2, stop_words = spanish_stopwords)"
   ]
  },
  {
   "cell_type": "code",
   "execution_count": 33,
   "metadata": {},
   "outputs": [],
   "source": [
    "doc_term_matrix = count_vect.fit_transform(df['message'].values.astype('U'))"
   ]
  },
  {
   "cell_type": "code",
   "execution_count": 34,
   "metadata": {},
   "outputs": [
    {
     "data": {
      "text/plain": [
       "<4971x1444 sparse matrix of type '<class 'numpy.int64'>'\n",
       "\twith 19962 stored elements in Compressed Sparse Row format>"
      ]
     },
     "execution_count": 34,
     "metadata": {},
     "output_type": "execute_result"
    }
   ],
   "source": [
    "doc_term_matrix"
   ]
  },
  {
   "cell_type": "code",
   "execution_count": 35,
   "metadata": {},
   "outputs": [
    {
     "data": {
      "text/plain": [
       "LatentDirichletAllocation(batch_size=128, doc_topic_prior=None,\n",
       "                          evaluate_every=-1, learning_decay=0.7,\n",
       "                          learning_method='batch', learning_offset=10.0,\n",
       "                          max_doc_update_iter=100, max_iter=10,\n",
       "                          mean_change_tol=0.001, n_components=5, n_jobs=None,\n",
       "                          perp_tol=0.1, random_state=42, topic_word_prior=None,\n",
       "                          total_samples=1000000.0, verbose=0)"
      ]
     },
     "execution_count": 35,
     "metadata": {},
     "output_type": "execute_result"
    }
   ],
   "source": [
    "from sklearn.decomposition import LatentDirichletAllocation\n",
    "\n",
    "LDA = LatentDirichletAllocation(n_components=5, random_state=42)\n",
    "LDA.fit(doc_term_matrix)"
   ]
  },
  {
   "cell_type": "code",
   "execution_count": 36,
   "metadata": {},
   "outputs": [
    {
     "name": "stdout",
     "output_type": "stream",
     "text": [
      "escribo\n",
      "pendiente\n",
      "demoraría\n",
      "cantidad\n",
      "siguiente\n"
     ]
    }
   ],
   "source": [
    "import random\n",
    "\n",
    "for i in range(5):\n",
    "    random_id = random.randint(0,len(count_vect.get_feature_names()))\n",
    "    print(count_vect.get_feature_names()[random_id])"
   ]
  },
  {
   "cell_type": "code",
   "execution_count": 37,
   "metadata": {},
   "outputs": [
    {
     "data": {
      "text/plain": [
       "array([0.20009259, 7.56803064, 8.25923708, ..., 0.20051461, 0.20081586,\n",
       "       3.96357247])"
      ]
     },
     "execution_count": 37,
     "metadata": {},
     "output_type": "execute_result"
    }
   ],
   "source": [
    "first_topic = LDA.components_[0]\n",
    "first_topic"
   ]
  },
  {
   "cell_type": "code",
   "execution_count": 38,
   "metadata": {},
   "outputs": [],
   "source": [
    "top_topic_words = first_topic.argsort()[-10:]"
   ]
  },
  {
   "cell_type": "code",
   "execution_count": 39,
   "metadata": {},
   "outputs": [
    {
     "data": {
      "text/plain": [
       "array([ 445,  598, 1118, 1061,  656, 1058,  493, 1115,  325,  976])"
      ]
     },
     "execution_count": 39,
     "metadata": {},
     "output_type": "execute_result"
    }
   ],
   "source": [
    "top_topic_words"
   ]
  },
  {
   "cell_type": "code",
   "execution_count": 40,
   "metadata": {},
   "outputs": [
    {
     "name": "stdout",
     "output_type": "stream",
     "text": [
      "documentos\n",
      "fecha\n",
      "puedo\n",
      "pregunta\n",
      "hacer\n",
      "precio\n",
      "entonces\n",
      "puede\n",
      "cuanto\n",
      "pago\n"
     ]
    }
   ],
   "source": [
    "for i in top_topic_words:\n",
    "    print(count_vect.get_feature_names()[i])"
   ]
  },
  {
   "cell_type": "code",
   "execution_count": 41,
   "metadata": {},
   "outputs": [
    {
     "name": "stdout",
     "output_type": "stream",
     "text": [
      "Top 10 words for topic #0:\n",
      "['documentos', 'fecha', 'puedo', 'pregunta', 'hacer', 'precio', 'entonces', 'puede', 'cuanto', 'pago']\n",
      "\n",
      "\n",
      "Top 10 words for topic #1:\n",
      "['entere', 'web', 'programas', 'página', 'kuepa', 'pueden', 'ustedes', 'dar', 'información', 'hola']\n",
      "\n",
      "\n",
      "Top 10 words for topic #2:\n",
      "['buen', 'si', 'tardes', 'días', 'buenas', 'hola', 'clases', 'materia', 'día', 'pagar']\n",
      "\n",
      "\n",
      "Top 10 words for topic #3:\n",
      "['algún', 'curso', 'gracias', 'solo', 'hacer', 'saber', 'si', 'costo', 'cómo', 'puedo']\n",
      "\n",
      "\n",
      "Top 10 words for topic #4:\n",
      "['cuál', 'podrías', 'plataforma', 'podría', 'costos', 'favor', 'ok', 'puedes', 'pago', 'si']\n",
      "\n",
      "\n"
     ]
    }
   ],
   "source": [
    "for i,topic in enumerate(LDA.components_):\n",
    "    print(f'Top 10 words for topic #{i}:')\n",
    "    print([count_vect.get_feature_names()[i] for i in topic.argsort()[-10:]])\n",
    "    print('\\n')"
   ]
  },
  {
   "cell_type": "code",
   "execution_count": null,
   "metadata": {},
   "outputs": [],
   "source": []
  }
 ],
 "metadata": {
  "kernelspec": {
   "display_name": "Python 3",
   "language": "python",
   "name": "python3"
  },
  "language_info": {
   "codemirror_mode": {
    "name": "ipython",
    "version": 3
   },
   "file_extension": ".py",
   "mimetype": "text/x-python",
   "name": "python",
   "nbconvert_exporter": "python",
   "pygments_lexer": "ipython3",
   "version": "3.7.4"
  }
 },
 "nbformat": 4,
 "nbformat_minor": 2
}
